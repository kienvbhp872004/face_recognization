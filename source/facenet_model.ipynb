{
 "cells": [
  {
   "cell_type": "code",
   "id": "initial_id",
   "metadata": {
    "collapsed": true,
    "ExecuteTime": {
     "end_time": "2025-05-20T08:50:27.374528Z",
     "start_time": "2025-05-20T08:50:27.367517Z"
    }
   },
   "source": [
    "import os\n",
    "import cv2\n",
    "import numpy as np\n",
    "import matplotlib.pyplot as plt\n",
    "import math\n",
    "import torch\n",
    "import torchvision.transforms as transforms\n",
    "from facenet_pytorch import MTCNN,InceptionResnetV1\n",
    "from PIL import Image\n",
    "from sklearn.preprocessing import LabelEncoder, OneHotEncoder\n",
    "from sklearn.model_selection import train_test_split\n",
    "from sklearn.linear_model import LogisticRegression\n",
    "from sklearn.metrics import accuracy_score, f1_score, confusion_matrix, classification_report\n",
    "import joblib\n",
    "from sklearn.svm import SVC\n",
    "import pandas as pd\n"
   ],
   "outputs": [],
   "execution_count": 64
  },
  {
   "metadata": {
    "ExecuteTime": {
     "end_time": "2025-05-20T08:38:40.228068Z",
     "start_time": "2025-05-20T08:38:40.221469Z"
    }
   },
   "cell_type": "code",
   "source": [
    "device = torch.device(\"cuda:0\" if torch.cuda.is_available() else \"cpu\")\n",
    "device"
   ],
   "id": "8f683fbbf635ea51",
   "outputs": [
    {
     "data": {
      "text/plain": [
       "device(type='cuda', index=0)"
      ]
     },
     "execution_count": 55,
     "metadata": {},
     "output_type": "execute_result"
    }
   ],
   "execution_count": 55
  },
  {
   "metadata": {
    "ExecuteTime": {
     "end_time": "2025-05-20T08:38:40.454768Z",
     "start_time": "2025-05-20T08:38:40.439603Z"
    }
   },
   "cell_type": "code",
   "source": [
    "class FaceLoading:\n",
    "    def __init__(self,directory):\n",
    "        self.directory = directory\n",
    "        self.target_size = (112, 112)\n",
    "        self.X = []\n",
    "        self.y = []\n",
    "        self.mtcnn = MTCNN(image_size=160, margin=0, min_face_size=20,\n",
    "            thresholds=[0.6, 0.7, 0.7], factor=0.709, post_process=True)\n",
    "        self.i = 1\n",
    "    def extract_face(self,path):\n",
    "        img = cv2.imread(path)\n",
    "        img = cv2.cvtColor(img, cv2.COLOR_BGR2RGB)\n",
    "        face = self.mtcnn(img)\n",
    "        return face\n",
    "    def load_face_and_class(self):\n",
    "        for sub_dir in os.listdir(self.directory):\n",
    "            sub_dir_path = os.path.join(self.directory, sub_dir)\n",
    "            for img_name in os.listdir(sub_dir_path):\n",
    "                face = self.extract_face(os.path.join(sub_dir_path, img_name))\n",
    "                if(face is not None):\n",
    "                    self.X.append(face)\n",
    "                    self.y.append(sub_dir)\n",
    "        return np.array(self.X), np.array(self.y)\n",
    "    def plot_images(self):\n",
    "        num_columns = 3\n",
    "        num_rows = math.ceil(len(self.X) / num_columns)  # Ensure row count covers all images\n",
    "\n",
    "        plt.figure(figsize=(num_columns * 3, num_rows * 3))  # Adjust figure size dynamically\n",
    "        for num, img in enumerate(self.X):\n",
    "            plt.subplot(num_rows, num_columns, num + 1)\n",
    "            plt.imshow(img.permute(1, 2, 0).numpy())\n",
    "            plt.axis('off')\n",
    "        plt.tight_layout()  # Improve layout spacing\n",
    "        plt.show()"
   ],
   "id": "c711cdf9a736b5c5",
   "outputs": [],
   "execution_count": 56
  },
  {
   "metadata": {
    "ExecuteTime": {
     "end_time": "2025-05-20T08:39:05.873564Z",
     "start_time": "2025-05-20T08:38:40.639775Z"
    }
   },
   "cell_type": "code",
   "source": [
    "face_loading = FaceLoading(r\"C:\\Users\\admin\\OneDrive - Hanoi University of Science and Technology\\Documents\\GitHub\\PTTK\\face_recognization\\source\\data_raw\\image\")\n",
    "X,y = face_loading.load_face_and_class()"
   ],
   "id": "45957a70fa99b46f",
   "outputs": [],
   "execution_count": 57
  },
  {
   "metadata": {
    "ExecuteTime": {
     "end_time": "2025-05-20T08:39:06.094420Z",
     "start_time": "2025-05-20T08:39:06.082789Z"
    }
   },
   "cell_type": "code",
   "source": [
    "encode = LabelEncoder()\n",
    "encoded_y = encode.fit_transform(y)\n",
    "encoded_y = encoded_y.reshape(-1, 1)\n",
    "onehot_encoder = OneHotEncoder(sparse_output=False)  # sparse_output=False để trả về mảng NumPy\n",
    "onehot_y = onehot_encoder.fit_transform(encoded_y)\n",
    "print(onehot_y)"
   ],
   "id": "41aa113305e5957e",
   "outputs": [
    {
     "name": "stdout",
     "output_type": "stream",
     "text": [
      "[[1. 0. 0. 0. 0. 0.]\n",
      " [1. 0. 0. 0. 0. 0.]\n",
      " [1. 0. 0. 0. 0. 0.]\n",
      " [1. 0. 0. 0. 0. 0.]\n",
      " [1. 0. 0. 0. 0. 0.]\n",
      " [1. 0. 0. 0. 0. 0.]\n",
      " [1. 0. 0. 0. 0. 0.]\n",
      " [1. 0. 0. 0. 0. 0.]\n",
      " [1. 0. 0. 0. 0. 0.]\n",
      " [1. 0. 0. 0. 0. 0.]\n",
      " [1. 0. 0. 0. 0. 0.]\n",
      " [1. 0. 0. 0. 0. 0.]\n",
      " [1. 0. 0. 0. 0. 0.]\n",
      " [1. 0. 0. 0. 0. 0.]\n",
      " [1. 0. 0. 0. 0. 0.]\n",
      " [1. 0. 0. 0. 0. 0.]\n",
      " [1. 0. 0. 0. 0. 0.]\n",
      " [1. 0. 0. 0. 0. 0.]\n",
      " [1. 0. 0. 0. 0. 0.]\n",
      " [1. 0. 0. 0. 0. 0.]\n",
      " [0. 1. 0. 0. 0. 0.]\n",
      " [0. 1. 0. 0. 0. 0.]\n",
      " [0. 1. 0. 0. 0. 0.]\n",
      " [0. 1. 0. 0. 0. 0.]\n",
      " [0. 1. 0. 0. 0. 0.]\n",
      " [0. 1. 0. 0. 0. 0.]\n",
      " [0. 1. 0. 0. 0. 0.]\n",
      " [0. 1. 0. 0. 0. 0.]\n",
      " [0. 1. 0. 0. 0. 0.]\n",
      " [0. 1. 0. 0. 0. 0.]\n",
      " [0. 1. 0. 0. 0. 0.]\n",
      " [0. 0. 1. 0. 0. 0.]\n",
      " [0. 0. 1. 0. 0. 0.]\n",
      " [0. 0. 1. 0. 0. 0.]\n",
      " [0. 0. 1. 0. 0. 0.]\n",
      " [0. 0. 1. 0. 0. 0.]\n",
      " [0. 0. 1. 0. 0. 0.]\n",
      " [0. 0. 1. 0. 0. 0.]\n",
      " [0. 0. 1. 0. 0. 0.]\n",
      " [0. 0. 1. 0. 0. 0.]\n",
      " [0. 0. 1. 0. 0. 0.]\n",
      " [0. 0. 1. 0. 0. 0.]\n",
      " [0. 0. 1. 0. 0. 0.]\n",
      " [0. 0. 1. 0. 0. 0.]\n",
      " [0. 0. 0. 1. 0. 0.]\n",
      " [0. 0. 0. 1. 0. 0.]\n",
      " [0. 0. 0. 1. 0. 0.]\n",
      " [0. 0. 0. 1. 0. 0.]\n",
      " [0. 0. 0. 1. 0. 0.]\n",
      " [0. 0. 0. 1. 0. 0.]\n",
      " [0. 0. 0. 1. 0. 0.]\n",
      " [0. 0. 0. 1. 0. 0.]\n",
      " [0. 0. 0. 1. 0. 0.]\n",
      " [0. 0. 0. 1. 0. 0.]\n",
      " [0. 0. 0. 1. 0. 0.]\n",
      " [0. 0. 0. 1. 0. 0.]\n",
      " [0. 0. 0. 1. 0. 0.]\n",
      " [0. 0. 0. 1. 0. 0.]\n",
      " [0. 0. 0. 1. 0. 0.]\n",
      " [0. 0. 0. 1. 0. 0.]\n",
      " [0. 0. 0. 1. 0. 0.]\n",
      " [0. 0. 0. 1. 0. 0.]\n",
      " [0. 0. 0. 1. 0. 0.]\n",
      " [0. 0. 0. 0. 1. 0.]\n",
      " [0. 0. 0. 0. 1. 0.]\n",
      " [0. 0. 0. 0. 1. 0.]\n",
      " [0. 0. 0. 0. 1. 0.]\n",
      " [0. 0. 0. 0. 1. 0.]\n",
      " [0. 0. 0. 0. 1. 0.]\n",
      " [0. 0. 0. 0. 1. 0.]\n",
      " [0. 0. 0. 0. 1. 0.]\n",
      " [0. 0. 0. 0. 1. 0.]\n",
      " [0. 0. 0. 0. 1. 0.]\n",
      " [0. 0. 0. 0. 1. 0.]\n",
      " [0. 0. 0. 0. 1. 0.]\n",
      " [0. 0. 0. 0. 1. 0.]\n",
      " [0. 0. 0. 0. 1. 0.]\n",
      " [0. 0. 0. 0. 1. 0.]\n",
      " [0. 0. 0. 0. 1. 0.]\n",
      " [0. 0. 0. 0. 1. 0.]\n",
      " [0. 0. 0. 0. 1. 0.]\n",
      " [0. 0. 0. 0. 1. 0.]\n",
      " [0. 0. 0. 0. 1. 0.]\n",
      " [0. 0. 0. 0. 0. 1.]\n",
      " [0. 0. 0. 0. 0. 1.]\n",
      " [0. 0. 0. 0. 0. 1.]\n",
      " [0. 0. 0. 0. 0. 1.]\n",
      " [0. 0. 0. 0. 0. 1.]\n",
      " [0. 0. 0. 0. 0. 1.]\n",
      " [0. 0. 0. 0. 0. 1.]\n",
      " [0. 0. 0. 0. 0. 1.]\n",
      " [0. 0. 0. 0. 0. 1.]\n",
      " [0. 0. 0. 0. 0. 1.]\n",
      " [0. 0. 0. 0. 0. 1.]\n",
      " [0. 0. 0. 0. 0. 1.]\n",
      " [0. 0. 0. 0. 0. 1.]\n",
      " [0. 0. 0. 0. 0. 1.]\n",
      " [0. 0. 0. 0. 0. 1.]\n",
      " [0. 0. 0. 0. 0. 1.]\n",
      " [0. 0. 0. 0. 0. 1.]\n",
      " [0. 0. 0. 0. 0. 1.]\n",
      " [0. 0. 0. 0. 0. 1.]\n",
      " [0. 0. 0. 0. 0. 1.]\n",
      " [0. 0. 0. 0. 0. 1.]]\n"
     ]
    }
   ],
   "execution_count": 58
  },
  {
   "metadata": {
    "ExecuteTime": {
     "end_time": "2025-05-20T08:39:06.448353Z",
     "start_time": "2025-05-20T08:39:06.442651Z"
    }
   },
   "cell_type": "code",
   "source": "# face_loading.plot_images()",
   "id": "226fff4e1059e0d9",
   "outputs": [],
   "execution_count": 59
  },
  {
   "metadata": {
    "ExecuteTime": {
     "end_time": "2025-05-20T08:39:06.982401Z",
     "start_time": "2025-05-20T08:39:06.454745Z"
    }
   },
   "cell_type": "code",
   "source": [
    "device = torch.device(\"cuda\" if torch.cuda.is_available() else \"cpu\")\n",
    "resnet = InceptionResnetV1(pretrained='vggface2').eval().to(device)"
   ],
   "id": "a032b9554feab48e",
   "outputs": [],
   "execution_count": 60
  },
  {
   "metadata": {
    "ExecuteTime": {
     "end_time": "2025-05-20T08:40:19.207371Z",
     "start_time": "2025-05-20T08:40:15.552376Z"
    }
   },
   "cell_type": "code",
   "source": [
    "\n",
    "# Assuming resnet is your InceptionResnetV1 model\n",
    "device = torch.device('cuda' if torch.cuda.is_available() else 'cpu')\n",
    "resnet = resnet.to(device)\n",
    "resnet.eval()  # Set model to evaluation mode\n",
    "\n",
    "# Preprocessing pipeline\n",
    "preprocess = transforms.Compose([\n",
    "    transforms.Resize((160, 160)),  # Resize to 160x160\n",
    "    transforms.ToTensor(),          # Converts to (C, H, W) and normalizes to [0, 1]\n",
    "    transforms.Normalize(mean=[0.5, 0.5, 0.5], std=[0.5, 0.5, 0.5])  # Normalize to [-1, 1]\n",
    "])\n",
    "\n",
    "X_embed = []\n",
    "for face in X:\n",
    "    if isinstance(face, np.ndarray):\n",
    "        # Check shape and type\n",
    "        print(f\"Shape: {face.shape}, Dtype: {face.dtype}\")\n",
    "\n",
    "        # Ensure face is a valid image array\n",
    "        if face.ndim == 3:\n",
    "            if face.shape[-1] in [1, 3]:  # (H, W, C) format\n",
    "                if face.shape[-1] == 1:  # Convert grayscale to RGB\n",
    "                    face = np.repeat(face, 3, axis=-1)\n",
    "            elif face.shape[0] in [1, 3]:  # (C, H, W) format\n",
    "                face = face.transpose(1, 2, 0)  # Convert to (H, W, C)\n",
    "                if face.shape[-1] == 1:  # Convert grayscale to RGB\n",
    "                    face = np.repeat(face, 3, axis=-1)\n",
    "            else:\n",
    "                raise ValueError(f\"Invalid face shape: {face.shape}. Expected (H, W, 3), (H, W, 1), or (3, H, W).\")\n",
    "        elif face.ndim == 2:  # Grayscale (H, W)\n",
    "            face = np.stack([face] * 3, axis=-1)  # Convert to RGB\n",
    "        else:\n",
    "            raise ValueError(f\"Invalid face shape: {face.shape}. Expected (H, W, 3), (H, W, 1), or (H, W).\")\n",
    "\n",
    "        # Ensure uint8 for PIL (if float, convert to uint8)\n",
    "        if face.dtype != np.uint8:\n",
    "            face = (face * 255).clip(0, 255).astype(np.uint8)\n",
    "\n",
    "        face_pil = Image.fromarray(face)\n",
    "\n",
    "        # Apply preprocessing\n",
    "        face_tensor = preprocess(face_pil).unsqueeze(0).to(device)  # Shape: [1, 3, 160, 160]\n",
    "\n",
    "        # Get embedding\n",
    "        with torch.no_grad():\n",
    "            embedding = resnet(face_tensor).cpu().detach().numpy()\n",
    "        X_embed.append(embedding)\n",
    "    else:\n",
    "        raise ValueError(\"Each face in X should be a NumPy array\")\n",
    "\n",
    "X_embed = np.array(X_embed)"
   ],
   "id": "c2a724ef6e6781c2",
   "outputs": [
    {
     "name": "stdout",
     "output_type": "stream",
     "text": [
      "Shape: (3, 160, 160), Dtype: float32\n",
      "Shape: (3, 160, 160), Dtype: float32\n",
      "Shape: (3, 160, 160), Dtype: float32\n",
      "Shape: (3, 160, 160), Dtype: float32\n",
      "Shape: (3, 160, 160), Dtype: float32\n",
      "Shape: (3, 160, 160), Dtype: float32\n",
      "Shape: (3, 160, 160), Dtype: float32\n",
      "Shape: (3, 160, 160), Dtype: float32\n",
      "Shape: (3, 160, 160), Dtype: float32\n",
      "Shape: (3, 160, 160), Dtype: float32\n",
      "Shape: (3, 160, 160), Dtype: float32\n",
      "Shape: (3, 160, 160), Dtype: float32\n",
      "Shape: (3, 160, 160), Dtype: float32\n",
      "Shape: (3, 160, 160), Dtype: float32\n",
      "Shape: (3, 160, 160), Dtype: float32\n",
      "Shape: (3, 160, 160), Dtype: float32\n",
      "Shape: (3, 160, 160), Dtype: float32\n",
      "Shape: (3, 160, 160), Dtype: float32\n",
      "Shape: (3, 160, 160), Dtype: float32\n",
      "Shape: (3, 160, 160), Dtype: float32\n",
      "Shape: (3, 160, 160), Dtype: float32\n",
      "Shape: (3, 160, 160), Dtype: float32\n",
      "Shape: (3, 160, 160), Dtype: float32\n",
      "Shape: (3, 160, 160), Dtype: float32\n",
      "Shape: (3, 160, 160), Dtype: float32\n",
      "Shape: (3, 160, 160), Dtype: float32\n",
      "Shape: (3, 160, 160), Dtype: float32\n",
      "Shape: (3, 160, 160), Dtype: float32\n",
      "Shape: (3, 160, 160), Dtype: float32\n",
      "Shape: (3, 160, 160), Dtype: float32\n",
      "Shape: (3, 160, 160), Dtype: float32\n",
      "Shape: (3, 160, 160), Dtype: float32\n",
      "Shape: (3, 160, 160), Dtype: float32\n",
      "Shape: (3, 160, 160), Dtype: float32\n",
      "Shape: (3, 160, 160), Dtype: float32\n",
      "Shape: (3, 160, 160), Dtype: float32\n",
      "Shape: (3, 160, 160), Dtype: float32\n",
      "Shape: (3, 160, 160), Dtype: float32\n",
      "Shape: (3, 160, 160), Dtype: float32\n",
      "Shape: (3, 160, 160), Dtype: float32\n",
      "Shape: (3, 160, 160), Dtype: float32\n",
      "Shape: (3, 160, 160), Dtype: float32\n",
      "Shape: (3, 160, 160), Dtype: float32\n",
      "Shape: (3, 160, 160), Dtype: float32\n",
      "Shape: (3, 160, 160), Dtype: float32\n",
      "Shape: (3, 160, 160), Dtype: float32\n",
      "Shape: (3, 160, 160), Dtype: float32\n",
      "Shape: (3, 160, 160), Dtype: float32\n",
      "Shape: (3, 160, 160), Dtype: float32\n",
      "Shape: (3, 160, 160), Dtype: float32\n",
      "Shape: (3, 160, 160), Dtype: float32\n",
      "Shape: (3, 160, 160), Dtype: float32\n",
      "Shape: (3, 160, 160), Dtype: float32\n",
      "Shape: (3, 160, 160), Dtype: float32\n",
      "Shape: (3, 160, 160), Dtype: float32\n",
      "Shape: (3, 160, 160), Dtype: float32\n",
      "Shape: (3, 160, 160), Dtype: float32\n",
      "Shape: (3, 160, 160), Dtype: float32\n",
      "Shape: (3, 160, 160), Dtype: float32\n",
      "Shape: (3, 160, 160), Dtype: float32\n",
      "Shape: (3, 160, 160), Dtype: float32\n",
      "Shape: (3, 160, 160), Dtype: float32\n",
      "Shape: (3, 160, 160), Dtype: float32\n",
      "Shape: (3, 160, 160), Dtype: float32\n",
      "Shape: (3, 160, 160), Dtype: float32\n",
      "Shape: (3, 160, 160), Dtype: float32\n",
      "Shape: (3, 160, 160), Dtype: float32\n",
      "Shape: (3, 160, 160), Dtype: float32\n",
      "Shape: (3, 160, 160), Dtype: float32\n",
      "Shape: (3, 160, 160), Dtype: float32\n",
      "Shape: (3, 160, 160), Dtype: float32\n",
      "Shape: (3, 160, 160), Dtype: float32\n",
      "Shape: (3, 160, 160), Dtype: float32\n",
      "Shape: (3, 160, 160), Dtype: float32\n",
      "Shape: (3, 160, 160), Dtype: float32\n",
      "Shape: (3, 160, 160), Dtype: float32\n",
      "Shape: (3, 160, 160), Dtype: float32\n",
      "Shape: (3, 160, 160), Dtype: float32\n",
      "Shape: (3, 160, 160), Dtype: float32\n",
      "Shape: (3, 160, 160), Dtype: float32\n",
      "Shape: (3, 160, 160), Dtype: float32\n",
      "Shape: (3, 160, 160), Dtype: float32\n",
      "Shape: (3, 160, 160), Dtype: float32\n",
      "Shape: (3, 160, 160), Dtype: float32\n",
      "Shape: (3, 160, 160), Dtype: float32\n",
      "Shape: (3, 160, 160), Dtype: float32\n",
      "Shape: (3, 160, 160), Dtype: float32\n",
      "Shape: (3, 160, 160), Dtype: float32\n",
      "Shape: (3, 160, 160), Dtype: float32\n",
      "Shape: (3, 160, 160), Dtype: float32\n",
      "Shape: (3, 160, 160), Dtype: float32\n",
      "Shape: (3, 160, 160), Dtype: float32\n",
      "Shape: (3, 160, 160), Dtype: float32\n",
      "Shape: (3, 160, 160), Dtype: float32\n",
      "Shape: (3, 160, 160), Dtype: float32\n",
      "Shape: (3, 160, 160), Dtype: float32\n",
      "Shape: (3, 160, 160), Dtype: float32\n",
      "Shape: (3, 160, 160), Dtype: float32\n",
      "Shape: (3, 160, 160), Dtype: float32\n",
      "Shape: (3, 160, 160), Dtype: float32\n",
      "Shape: (3, 160, 160), Dtype: float32\n",
      "Shape: (3, 160, 160), Dtype: float32\n",
      "Shape: (3, 160, 160), Dtype: float32\n",
      "Shape: (3, 160, 160), Dtype: float32\n",
      "(104, 1, 512)\n"
     ]
    }
   ],
   "execution_count": 63
  },
  {
   "metadata": {},
   "cell_type": "markdown",
   "source": "",
   "id": "f86659822cf13233"
  },
  {
   "metadata": {
    "ExecuteTime": {
     "end_time": "2025-05-20T09:00:33.333330Z",
     "start_time": "2025-05-20T09:00:33.324156Z"
    }
   },
   "cell_type": "code",
   "source": [
    "def save_embeddings_and_model(X_embed, y, svm_model, label_encoder,\n",
    "                             embed_path='embeddings.npy',\n",
    "                             label_path='labels.npy',\n",
    "                             csv_path='embeddings_labels.csv',\n",
    "                             model_path='svm_model.joblib',\n",
    "                             encoder_path='label_encoder.joblib'):\n",
    "    \"\"\"Lưu embedding, nhãn, mô hình SVM và LabelEncoder.\"\"\"\n",
    "    # Lưu embedding và nhãn vào file .npy\n",
    "    np.save(embed_path, X_embed)\n",
    "    np.save(label_path, y)\n",
    "    print(f\"Saved embeddings to {embed_path}\")\n",
    "    print(f\"Saved labels to {label_path}\")\n",
    "\n",
    "    # Lưu vào file CSV\n",
    "    df = pd.DataFrame(X_embed)\n",
    "    df['label'] = y\n",
    "    df.to_csv(csv_path, index=False)\n",
    "    print(f\"Saved embeddings and labels to {csv_path}\")\n",
    "\n",
    "    # Lưu mô hình SVM\n",
    "    joblib.dump(svm_model, model_path)\n",
    "    print(f\"Saved SVM model to {model_path}\")\n",
    "\n",
    "    # Lưu LabelEncoder\n",
    "    joblib.dump(label_encoder, encoder_path)\n",
    "    print(f\"Saved LabelEncoder to {encoder_path}\")"
   ],
   "id": "7aba4b132eae61c0",
   "outputs": [],
   "execution_count": 69
  },
  {
   "metadata": {
    "ExecuteTime": {
     "end_time": "2025-05-20T09:00:35.982081Z",
     "start_time": "2025-05-20T09:00:35.880671Z"
    }
   },
   "cell_type": "code",
   "source": [
    "if X_embed.ndim == 3:\n",
    "    X_embed = X_embed.squeeze(1)  # Chuyển từ (N, 1, 512) thành (N, 512)\n",
    "\n",
    "\n",
    "label_encoder = LabelEncoder()\n",
    "y_encoded = label_encoder.fit_transform(y)\n",
    "\n",
    "print(f\"X_embed shape: {X_embed.shape}\")\n",
    "print(f\"y shape: {y.shape}\")\n",
    "\n",
    "X_train, X_test, y_train, y_test = train_test_split(\n",
    "    X_embed, y_encoded, test_size=0.2, random_state=42, stratify=y_encoded\n",
    ")\n",
    "\n",
    "svm_model = SVC(kernel='rbf', C=1.0, probability=True, random_state=42)\n",
    "svm_model.fit(X_train, y_train)\n",
    "y_pred = svm_model.predict(X_test)\n",
    "accuracy = accuracy_score(y_test, y_pred)\n",
    "print(f\"Accuracy on test set: {accuracy:.4f}\")\n",
    "save_embeddings_and_model(\n",
    "    X_embed,\n",
    "    y,\n",
    "    svm_model,\n",
    "    label_encoder,\n",
    "    embed_path='embeddings.npy',\n",
    "    label_path='labels.npy',\n",
    "    csv_path='embeddings_labels.csv',\n",
    "    model_path='svm_model.joblib',\n",
    "    encoder_path='label_encoder.joblib'\n",
    ")"
   ],
   "id": "cae6dd1cd216e38a",
   "outputs": [
    {
     "name": "stdout",
     "output_type": "stream",
     "text": [
      "X_embed shape: (104, 512)\n",
      "y shape: (104,)\n",
      "Accuracy on test set: 1.0000\n",
      "Saved embeddings to embeddings.npy\n",
      "Saved labels to labels.npy\n",
      "Saved embeddings and labels to embeddings_labels.csv\n",
      "Saved SVM model to svm_model.joblib\n",
      "Saved LabelEncoder to label_encoder.joblib\n"
     ]
    }
   ],
   "execution_count": 70
  },
  {
   "metadata": {
    "ExecuteTime": {
     "end_time": "2025-05-20T08:50:40.657679Z",
     "start_time": "2025-05-20T08:50:40.649832Z"
    }
   },
   "cell_type": "code",
   "source": "",
   "id": "5675f42f1cb5cf83",
   "outputs": [],
   "execution_count": 65
  }
 ],
 "metadata": {
  "kernelspec": {
   "display_name": "Python 3",
   "language": "python",
   "name": "python3"
  },
  "language_info": {
   "codemirror_mode": {
    "name": "ipython",
    "version": 2
   },
   "file_extension": ".py",
   "mimetype": "text/x-python",
   "name": "python",
   "nbconvert_exporter": "python",
   "pygments_lexer": "ipython2",
   "version": "2.7.6"
  }
 },
 "nbformat": 4,
 "nbformat_minor": 5
}
